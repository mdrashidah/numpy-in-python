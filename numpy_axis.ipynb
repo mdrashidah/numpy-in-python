{
  "nbformat": 4,
  "nbformat_minor": 0,
  "metadata": {
    "colab": {
      "provenance": []
    },
    "kernelspec": {
      "name": "python3",
      "display_name": "Python 3"
    },
    "language_info": {
      "name": "python"
    }
  },
  "cells": [
    {
      "cell_type": "code",
      "execution_count": 1,
      "metadata": {
        "colab": {
          "base_uri": "https://localhost:8080/"
        },
        "id": "x8s2Qpa3-DCt",
        "outputId": "2711980b-17c3-4f77-9a7b-4fe7a8b4794f"
      },
      "outputs": [
        {
          "output_type": "stream",
          "name": "stdout",
          "text": [
            "1D Array:\n",
            " [1 2 3 4]\n",
            "Sum (Axis 0): 10\n",
            "\n",
            "2D Array:\n",
            " [[1 2 3]\n",
            " [4 5 6]]\n",
            "Sum along rows (Axis 0): [5 7 9]\n",
            "Sum along columns (Axis 1): [ 6 15]\n",
            "Overall Sum: 21\n",
            "\n",
            "3D Array:\n",
            " [[[1 2]\n",
            "  [3 4]]\n",
            "\n",
            " [[5 6]\n",
            "  [7 8]]]\n",
            "Sum along depth (Axis 0):\n",
            " [[ 6  8]\n",
            " [10 12]]\n",
            "Sum along rows (Axis 1):\n",
            " [[ 4  6]\n",
            " [12 14]]\n",
            "Sum along columns (Axis 2):\n",
            " [[ 3  7]\n",
            " [11 15]]\n"
          ]
        }
      ],
      "source": [
        "import numpy as np\n",
        "\n",
        "# 1D Array\n",
        "arr_1d = np.array([1, 2, 3, 4])\n",
        "print(\"1D Array:\\n\", arr_1d)\n",
        "print(\"Sum (Axis 0):\", np.sum(arr_1d, axis=0))  # Single axis, so sum of all elements\n",
        "\n",
        "\n",
        "# 2D Array\n",
        "arr_2d = np.array([[1, 2, 3],\n",
        "                   [4, 5, 6]])\n",
        "print(\"\\n2D Array:\\n\", arr_2d)\n",
        "print(\"Sum along rows (Axis 0):\", np.sum(arr_2d, axis=0))  # [5 7 9]\n",
        "print(\"Sum along columns (Axis 1):\", np.sum(arr_2d, axis=1))  # [6 15]\n",
        "print(\"Overall Sum:\", np.sum(arr_2d))  # 21 (sum of all elements)\n",
        "\n",
        "\n",
        "# 3D Array\n",
        "arr_3d = np.array([[[1, 2], [3, 4]],\n",
        "                   [[5, 6], [7, 8]]])\n",
        "print(\"\\n3D Array:\\n\", arr_3d)\n",
        "print(\"Sum along depth (Axis 0):\\n\", np.sum(arr_3d, axis=0))  # 2D result\n",
        "print(\"Sum along rows (Axis 1):\\n\", np.sum(arr_3d, axis=1))  # 2D result\n",
        "print(\"Sum along columns (Axis 2):\\n\", np.sum(arr_3d, axis=2))  # 2D result\n"
      ]
    },
    {
      "cell_type": "code",
      "source": [
        "print(arr_2d)\n",
        "print(np.sum(arr_2d, axis=0))\n",
        "print(arr_2d - np.sum(arr_2d, axis=0))"
      ],
      "metadata": {
        "colab": {
          "base_uri": "https://localhost:8080/"
        },
        "id": "B1x7kcSpBAoA",
        "outputId": "b93f4b52-bf1c-4e6a-d640-4c22adf8a6ca"
      },
      "execution_count": 2,
      "outputs": [
        {
          "output_type": "stream",
          "name": "stdout",
          "text": [
            "[[1 2 3]\n",
            " [4 5 6]]\n",
            "[5 7 9]\n",
            "[[-4 -5 -6]\n",
            " [-1 -2 -3]]\n"
          ]
        }
      ]
    }
  ]
}