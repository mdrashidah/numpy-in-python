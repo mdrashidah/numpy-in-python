{
  "cells": [
    {
      "cell_type": "markdown",
      "metadata": {
        "id": "view-in-github",
        "colab_type": "text"
      },
      "source": [
        "<a href=\"https://colab.research.google.com/github/mdrashidah/numpy-in-python/blob/main/numpy_array.ipynb\" target=\"_parent\"><img src=\"https://colab.research.google.com/assets/colab-badge.svg\" alt=\"Open In Colab\"/></a>"
      ]
    },
    {
      "cell_type": "code",
      "execution_count": null,
      "id": "07ef0fde",
      "metadata": {
        "id": "07ef0fde",
        "outputId": "8c600047-49ba-4189-8963-4c6a2819fb80"
      },
      "outputs": [
        {
          "name": "stdout",
          "output_type": "stream",
          "text": [
            "[[ 1  1  2]\n",
            " [ 2 11  4]\n",
            " [23 32 12]]\n",
            "(3, 3)\n",
            "<class 'numpy.ndarray'>\n",
            "(3, 3)\n",
            "int8\n",
            "[[ 2 11  4]\n",
            " [ 2 11  4]]\n"
          ]
        }
      ],
      "source": [
        "import numpy as np\n",
        "mx = np.array([[1,1,2],[2,11,4],[23,32,12]], np.int8)\n",
        "print(mx)\n",
        "print(mx.shape)\n",
        "print(type(mx))\n",
        "print(mx.shape)\n",
        "print(mx.dtype)\n",
        "print(mx[[1,1]])\n"
      ]
    },
    {
      "cell_type": "code",
      "execution_count": null,
      "id": "afecd5a5",
      "metadata": {
        "id": "afecd5a5",
        "outputId": "d49f1b98-5ecc-41e7-87e0-f3e06a29d71e"
      },
      "outputs": [
        {
          "name": "stdout",
          "output_type": "stream",
          "text": [
            "[[  1 100   2]\n",
            " [  2  11   4]\n",
            " [ 23  32  12]]\n"
          ]
        }
      ],
      "source": [
        "mx[0,1] = 100\n",
        "print(mx)"
      ]
    },
    {
      "cell_type": "markdown",
      "id": "802c4a7a",
      "metadata": {
        "id": "802c4a7a"
      },
      "source": [
        "***to check shape of the array***"
      ]
    },
    {
      "cell_type": "code",
      "execution_count": null,
      "id": "a9d23aed",
      "metadata": {
        "id": "a9d23aed",
        "outputId": "af018dd0-5cdd-40cc-b60a-e0a9c82e56ab"
      },
      "outputs": [
        {
          "data": {
            "text/plain": [
              "(3, 3)"
            ]
          },
          "execution_count": 47,
          "metadata": {},
          "output_type": "execute_result"
        }
      ],
      "source": [
        "mx.shape  # to check the shape of the array\n",
        "#mx.dtype  # to check the data type of the array"
      ]
    },
    {
      "cell_type": "code",
      "execution_count": null,
      "id": "31a9dbc7",
      "metadata": {
        "id": "31a9dbc7",
        "outputId": "a6374fa5-861d-4a89-a90a-cf30aba3738d"
      },
      "outputs": [
        {
          "data": {
            "text/plain": [
              "9"
            ]
          },
          "execution_count": 48,
          "metadata": {},
          "output_type": "execute_result"
        }
      ],
      "source": [
        "mx.size  # to check the size of the array"
      ]
    },
    {
      "cell_type": "markdown",
      "id": "b4b7c180",
      "metadata": {
        "id": "b4b7c180"
      },
      "source": [
        "indexing in numpy arrays starts from 0"
      ]
    },
    {
      "cell_type": "markdown",
      "id": "99755168",
      "metadata": {
        "id": "99755168"
      },
      "source": [
        "****DIFFERENT FUNCTIONS TO CREATE AN ARRAY IN NUMPY****"
      ]
    },
    {
      "cell_type": "markdown",
      "id": "a02b74ae",
      "metadata": {
        "id": "a02b74ae"
      },
      "source": [
        "1. SETTING BIT SIZE IN ARRAY"
      ]
    },
    {
      "cell_type": "code",
      "execution_count": null,
      "id": "de450c76",
      "metadata": {
        "id": "de450c76",
        "outputId": "2871118d-8016-44d4-c4ff-f1da948f122c"
      },
      "outputs": [
        {
          "name": "stdout",
          "output_type": "stream",
          "text": [
            "[[32 12 23]\n",
            " [ 2 11  4]\n",
            " [23 32 12]]\n"
          ]
        },
        {
          "data": {
            "text/plain": [
              "array([ 2, 11,  4])"
            ]
          },
          "execution_count": 49,
          "metadata": {},
          "output_type": "execute_result"
        }
      ],
      "source": [
        "import numpy as np\n",
        "ab = np.array([[32,12,23],[2,11,4],[23,32,12]], dtype = np.int64)\n",
        "print(ab)\n",
        "ab[1]"
      ]
    },
    {
      "cell_type": "code",
      "execution_count": null,
      "id": "8c55c1eb",
      "metadata": {
        "id": "8c55c1eb",
        "outputId": "633a2fd1-09a9-4b9e-f481-08c5752c9238"
      },
      "outputs": [
        {
          "name": "stdout",
          "output_type": "stream",
          "text": [
            "[[ 32  12  23]\n",
            " [100 100 100]\n",
            " [ 23  32  12]]\n"
          ]
        }
      ],
      "source": [
        "ab[1] = 100 # to change the value at index 1\n",
        "print(ab)"
      ]
    },
    {
      "cell_type": "markdown",
      "id": "60eb75dc",
      "metadata": {
        "id": "60eb75dc"
      },
      "source": [
        "***we typically use the following data types to increase or decrease the size of the array elements in the array:***\n",
        "\n",
        "np.int8,\n",
        "np.int16,\n",
        "np.int32,\n",
        "np.int64,\n",
        "np.float16,\n",
        "np.float32,\n",
        "np.float64\n"
      ]
    },
    {
      "cell_type": "markdown",
      "id": "43de15fa",
      "metadata": {
        "id": "43de15fa"
      },
      "source": [
        "*1. to check the size of the array*"
      ]
    },
    {
      "cell_type": "code",
      "execution_count": null,
      "id": "a5836c04",
      "metadata": {
        "id": "a5836c04",
        "outputId": "150a38b2-7e86-4172-eb56-c068be662313"
      },
      "outputs": [
        {
          "data": {
            "text/plain": [
              "9"
            ]
          },
          "execution_count": 51,
          "metadata": {},
          "output_type": "execute_result"
        }
      ],
      "source": [
        "ab.size  #"
      ]
    },
    {
      "cell_type": "markdown",
      "id": "6943d43c",
      "metadata": {
        "id": "6943d43c"
      },
      "source": [
        "*2. to check the number of dimensions of the array*"
      ]
    },
    {
      "cell_type": "code",
      "execution_count": null,
      "id": "96ac0ad5",
      "metadata": {
        "id": "96ac0ad5",
        "outputId": "526411aa-9eb0-4759-ad1d-ce0f5bd7c238"
      },
      "outputs": [
        {
          "data": {
            "text/plain": [
              "2"
            ]
          },
          "execution_count": 52,
          "metadata": {},
          "output_type": "execute_result"
        }
      ],
      "source": [
        "ab.ndim"
      ]
    },
    {
      "cell_type": "markdown",
      "id": "86bcb05e",
      "metadata": {
        "id": "86bcb05e"
      },
      "source": [
        "# **creation of array from other pyhton structures**"
      ]
    },
    {
      "cell_type": "markdown",
      "id": "6ca8120f",
      "metadata": {
        "id": "6ca8120f"
      },
      "source": [
        "*1. to create a set of numbers*"
      ]
    },
    {
      "cell_type": "code",
      "execution_count": null,
      "id": "6b3b62f1",
      "metadata": {
        "id": "6b3b62f1",
        "outputId": "d66476bc-c802-47c2-9c77-bef7af9562b9"
      },
      "outputs": [
        {
          "data": {
            "text/plain": [
              "array({1, 2, 3, 4}, dtype=object)"
            ]
          },
          "execution_count": 53,
          "metadata": {},
          "output_type": "execute_result"
        }
      ],
      "source": [
        "np.array({1,2,3,4})"
      ]
    },
    {
      "cell_type": "markdown",
      "id": "845072b2",
      "metadata": {
        "id": "845072b2"
      },
      "source": [
        "**2. for creation of zero(0) object array**"
      ]
    },
    {
      "cell_type": "markdown",
      "id": "6897b744",
      "metadata": {
        "id": "6897b744"
      },
      "source": [
        "2.1) *by putting the array in int type*"
      ]
    },
    {
      "cell_type": "code",
      "execution_count": null,
      "id": "49b6ce35",
      "metadata": {
        "id": "49b6ce35",
        "outputId": "5abbacfb-2715-40c1-87b8-7a5d8a0e221d"
      },
      "outputs": [
        {
          "name": "stdout",
          "output_type": "stream",
          "text": [
            "[[0 0 0 0 0]\n",
            " [0 0 0 0 0]\n",
            " [0 0 0 0 0]]\n"
          ]
        }
      ],
      "source": [
        "ze = np.zeros((3,5), dtype = np.int32)  # to create a zero(0) object array\n",
        "print(ze)"
      ]
    },
    {
      "cell_type": "markdown",
      "id": "e784b6bb",
      "metadata": {
        "id": "e784b6bb"
      },
      "source": [
        "2.2) *represents the float number*"
      ]
    },
    {
      "cell_type": "code",
      "execution_count": null,
      "id": "008bb802",
      "metadata": {
        "id": "008bb802",
        "outputId": "afb6b5ae-6ddc-492e-e117-831c70a8b5f6"
      },
      "outputs": [
        {
          "name": "stdout",
          "output_type": "stream",
          "text": [
            "[[0. 0. 0. 0. 0.]\n",
            " [0. 0. 0. 0. 0.]\n",
            " [0. 0. 0. 0. 0.]]\n"
          ]
        },
        {
          "data": {
            "text/plain": [
              "dtype('float64')"
            ]
          },
          "execution_count": 55,
          "metadata": {},
          "output_type": "execute_result"
        }
      ],
      "source": [
        "ze = np.zeros((3,5))  # to create a zero(0) object array\n",
        "print(ze)\n",
        "ze.dtype"
      ]
    },
    {
      "cell_type": "markdown",
      "id": "c34cdb66",
      "metadata": {
        "id": "c34cdb66"
      },
      "source": [
        "2.3) *to create range of a no.*"
      ]
    },
    {
      "cell_type": "code",
      "execution_count": null,
      "id": "e3b43c8e",
      "metadata": {
        "id": "e3b43c8e",
        "outputId": "c3c38780-0539-4773-bc47-16b82560daae"
      },
      "outputs": [
        {
          "name": "stdout",
          "output_type": "stream",
          "text": [
            "[0 1 2 3 4 5 6 7 8 9]\n"
          ]
        }
      ],
      "source": [
        "display_range = np.arange(10)  # to create a range of numbers from 0 to 9\n",
        "# It is as same as range in python in terms of functionality\n",
        "print(display_range)"
      ]
    },
    {
      "cell_type": "markdown",
      "id": "601039e7",
      "metadata": {
        "id": "601039e7"
      },
      "source": [
        "'arange' is a function to create an array with a given range."
      ]
    },
    {
      "cell_type": "markdown",
      "id": "605880b9",
      "metadata": {
        "id": "605880b9"
      },
      "source": [
        "2.4) *linear use  of line space in arrays*"
      ]
    },
    {
      "cell_type": "markdown",
      "id": "66d5a42f",
      "metadata": {
        "id": "66d5a42f"
      },
      "source": [
        "(i) *normal type*"
      ]
    },
    {
      "cell_type": "code",
      "execution_count": null,
      "id": "44cf3751",
      "metadata": {
        "id": "44cf3751",
        "outputId": "81df3508-00f1-4e7b-a12f-c9cebfcf0eeb"
      },
      "outputs": [
        {
          "name": "stdout",
          "output_type": "stream",
          "text": [
            "[  0.          11.11111111  22.22222222  33.33333333  44.44444444\n",
            "  55.55555556  66.66666667  77.77777778  88.88888889 100.        ]\n"
          ]
        }
      ],
      "source": [
        "lspace = np.linspace(0, 100, 10)  # to create a linearly spaced array\n",
        "print(lspace)"
      ]
    },
    {
      "cell_type": "markdown",
      "id": "ba6d117f",
      "metadata": {
        "id": "ba6d117f"
      },
      "source": [
        "(ii) *if want to change the the data type of array*"
      ]
    },
    {
      "cell_type": "code",
      "execution_count": null,
      "id": "c1740709",
      "metadata": {
        "id": "c1740709",
        "outputId": "4560339b-78a5-4209-d78f-77c60dce0e85"
      },
      "outputs": [
        {
          "name": "stdout",
          "output_type": "stream",
          "text": [
            "[  0  10  20  30  40  50  60  70  80  90 100]\n"
          ]
        }
      ],
      "source": [
        "lspace2 = np.linspace(0, 100, 11, dtype=np.int64)\n",
        "print(lspace2)"
      ]
    },
    {
      "cell_type": "markdown",
      "id": "292f3567",
      "metadata": {
        "id": "292f3567"
      },
      "source": [
        "2.5) *to create an empty array*"
      ]
    },
    {
      "cell_type": "code",
      "execution_count": null,
      "id": "4fd06a15",
      "metadata": {
        "id": "4fd06a15",
        "outputId": "eeee94b7-1036-4b9d-c733-fc8e9a68d10d"
      },
      "outputs": [
        {
          "name": "stdout",
          "output_type": "stream",
          "text": [
            "[[25895968444448860 23925768161198147]\n",
            " [32370111954616435 32370038941024348]]\n"
          ]
        }
      ],
      "source": [
        "emp = np.empty((2,2), dtype = int)\n",
        "print(emp)"
      ]
    },
    {
      "cell_type": "markdown",
      "id": "c172ea4f",
      "metadata": {
        "id": "c172ea4f"
      },
      "source": [
        "2.6) *to create an empty array with the same shape and type as a given array*"
      ]
    },
    {
      "cell_type": "code",
      "execution_count": null,
      "id": "6899819e",
      "metadata": {
        "id": "6899819e",
        "outputId": "2257b480-48fb-43e9-fb25-e90245a97903"
      },
      "outputs": [
        {
          "name": "stdout",
          "output_type": "stream",
          "text": [
            "[  0  10  20  30  40  50  60  70  80  90 100]\n"
          ]
        }
      ],
      "source": [
        "emp_like = np.empty_like(lspace2)\n",
        "print(emp_like)"
      ]
    },
    {
      "cell_type": "markdown",
      "id": "869c3dda",
      "metadata": {
        "id": "869c3dda"
      },
      "source": [
        "2.7) *for identity matrices*"
      ]
    },
    {
      "cell_type": "code",
      "execution_count": null,
      "id": "0d34ef3f",
      "metadata": {
        "id": "0d34ef3f",
        "outputId": "dfde4ed6-5007-4c53-b3fa-49322ff6569f"
      },
      "outputs": [
        {
          "name": "stdout",
          "output_type": "stream",
          "text": [
            "[[1 0 0 0 0]\n",
            " [0 1 0 0 0]\n",
            " [0 0 1 0 0]\n",
            " [0 0 0 1 0]\n",
            " [0 0 0 0 1]]\n"
          ]
        }
      ],
      "source": [
        "idn_mtx = np.identity(5 ,dtype = np.int8)\n",
        "print(idn_mtx)"
      ]
    },
    {
      "cell_type": "markdown",
      "id": "c63b3f05",
      "metadata": {
        "id": "c63b3f05"
      },
      "source": [
        "2.8) *for checking the shape of the array*\n"
      ]
    },
    {
      "cell_type": "code",
      "execution_count": null,
      "id": "c4b4b3fd",
      "metadata": {
        "id": "c4b4b3fd",
        "outputId": "82cfd931-562f-4e96-9061-a8c4b260b3a8"
      },
      "outputs": [
        {
          "data": {
            "text/plain": [
              "(5, 5)"
            ]
          },
          "execution_count": 62,
          "metadata": {},
          "output_type": "execute_result"
        }
      ],
      "source": [
        "idn_mtx.shape"
      ]
    },
    {
      "cell_type": "markdown",
      "id": "c3fe6eff",
      "metadata": {
        "id": "c3fe6eff"
      },
      "source": [
        "2.9) *reshaping of the array*"
      ]
    },
    {
      "cell_type": "markdown",
      "id": "f5edfff3",
      "metadata": {
        "id": "f5edfff3"
      },
      "source": [
        "![WhatsApp Image 2025-09-04 at 09.36.59_d4fe205a.jpg](<attachment:WhatsApp Image 2025-09-04 at 09.36.59_d4fe205a.jpg>)"
      ]
    },
    {
      "cell_type": "code",
      "execution_count": null,
      "id": "6b656581",
      "metadata": {
        "id": "6b656581",
        "outputId": "3081d113-e52e-4678-bae8-4125b50a9c94"
      },
      "outputs": [
        {
          "name": "stdout",
          "output_type": "stream",
          "text": [
            "[ 0  1  2  3  4  5  6  7  8  9 10 11]\n"
          ]
        }
      ],
      "source": [
        "import numpy as np\n",
        "ab = np.arange(12)\n",
        "print(ab)"
      ]
    },
    {
      "cell_type": "code",
      "execution_count": null,
      "id": "40e701c9",
      "metadata": {
        "id": "40e701c9",
        "outputId": "6f7e015c-1ada-4088-a43e-51e0a8337d45"
      },
      "outputs": [
        {
          "name": "stdout",
          "output_type": "stream",
          "text": [
            "[[ 0  1  2  3]\n",
            " [ 4  5  6  7]\n",
            " [ 8  9 10 11]]\n"
          ]
        }
      ],
      "source": [
        "xy = ab.reshape(3,4)  # reshaping of the array\n",
        "print(xy)"
      ]
    },
    {
      "cell_type": "code",
      "execution_count": null,
      "id": "a3d5d159",
      "metadata": {
        "id": "a3d5d159",
        "outputId": "397d6ce0-62fa-4f53-8d63-6d7527fb007e"
      },
      "outputs": [
        {
          "name": "stdout",
          "output_type": "stream",
          "text": [
            "[ 0  1  2  3  4  5  6  7  8  9 10 11]\n"
          ]
        }
      ],
      "source": [
        "xyz = xy.ravel()  # converting back to 1-D array\n",
        "print(xyz)"
      ]
    },
    {
      "cell_type": "markdown",
      "id": "ca596d83",
      "metadata": {
        "id": "ca596d83"
      },
      "source": [
        "2.10) *transpose of a matrix*"
      ]
    },
    {
      "cell_type": "code",
      "execution_count": null,
      "id": "d4810bc8",
      "metadata": {
        "id": "d4810bc8",
        "outputId": "97cb47e3-d871-47c3-e257-d07096e3feee"
      },
      "outputs": [
        {
          "name": "stdout",
          "output_type": "stream",
          "text": [
            "[[ 0  4  8]\n",
            " [ 1  5  9]\n",
            " [ 2  6 10]\n",
            " [ 3  7 11]]\n"
          ]
        }
      ],
      "source": [
        "a2 = xy.T\n",
        "print(a2)"
      ]
    },
    {
      "cell_type": "markdown",
      "id": "409505bb",
      "metadata": {
        "id": "409505bb"
      },
      "source": [
        "2.11) *to get the iterator foR the array*"
      ]
    },
    {
      "cell_type": "code",
      "execution_count": null,
      "id": "ebcf7403",
      "metadata": {
        "id": "ebcf7403",
        "outputId": "71a06d7e-fd8e-4bce-971a-1c590dcbd052"
      },
      "outputs": [
        {
          "data": {
            "text/plain": [
              "<numpy.flatiter at 0x278653d9bd0>"
            ]
          },
          "execution_count": 67,
          "metadata": {},
          "output_type": "execute_result"
        }
      ],
      "source": [
        "a2.flat # to get the iterator for the array"
      ]
    },
    {
      "cell_type": "markdown",
      "id": "4cd2fc4e",
      "metadata": {
        "id": "4cd2fc4e"
      },
      "source": [
        "![image.png](attachment:image.png)"
      ]
    },
    {
      "cell_type": "markdown",
      "id": "6b7fe582",
      "metadata": {
        "id": "6b7fe582"
      },
      "source": [
        "***0x239ee7533b0 is the memory address of the variable 'a2'***"
      ]
    },
    {
      "cell_type": "markdown",
      "id": "39ef601e",
      "metadata": {
        "id": "39ef601e"
      },
      "source": [
        "2.12) *to check the dimension of the array*"
      ]
    },
    {
      "cell_type": "code",
      "execution_count": null,
      "id": "9af982f2",
      "metadata": {
        "id": "9af982f2",
        "outputId": "2c61a03e-7187-4861-dcb4-f5f3db39036d"
      },
      "outputs": [
        {
          "data": {
            "text/plain": [
              "2"
            ]
          },
          "execution_count": 68,
          "metadata": {},
          "output_type": "execute_result"
        }
      ],
      "source": [
        "a2.ndim"
      ]
    },
    {
      "cell_type": "markdown",
      "id": "18eaf99e",
      "metadata": {
        "id": "18eaf99e"
      },
      "source": [
        "2.13) *size of the array*"
      ]
    },
    {
      "cell_type": "code",
      "execution_count": null,
      "id": "86a0866c",
      "metadata": {
        "id": "86a0866c",
        "outputId": "3bbec7a1-e9f3-4d20-f780-c2b291286d7d"
      },
      "outputs": [
        {
          "data": {
            "text/plain": [
              "12"
            ]
          },
          "execution_count": 69,
          "metadata": {},
          "output_type": "execute_result"
        }
      ],
      "source": [
        "a2.size"
      ]
    },
    {
      "cell_type": "markdown",
      "id": "84f20979",
      "metadata": {
        "id": "84f20979"
      },
      "source": [
        "2.14) *total bytes consumed by the array*"
      ]
    },
    {
      "cell_type": "code",
      "execution_count": null,
      "id": "193764dd",
      "metadata": {
        "id": "193764dd",
        "outputId": "7121f416-9617-4447-9cb9-876ae8059b9a"
      },
      "outputs": [
        {
          "data": {
            "text/plain": [
              "96"
            ]
          },
          "execution_count": 70,
          "metadata": {},
          "output_type": "execute_result"
        }
      ],
      "source": [
        "a2.nbytes #"
      ]
    },
    {
      "cell_type": "markdown",
      "id": "2b0bdb94",
      "metadata": {
        "id": "2b0bdb94"
      },
      "source": [
        "2.15) **to check max and min value of numpy array**"
      ]
    },
    {
      "cell_type": "code",
      "execution_count": null,
      "id": "a623d370",
      "metadata": {
        "id": "a623d370",
        "outputId": "5ac2b441-39cc-404d-c6fd-65a0b035b8ca"
      },
      "outputs": [
        {
          "name": "stdout",
          "output_type": "stream",
          "text": [
            "[   12     3   234    32 12345]\n"
          ]
        }
      ],
      "source": [
        "one = np.array([12,3,234,32,12345])\n",
        "print(one)"
      ]
    },
    {
      "cell_type": "markdown",
      "id": "7e7169c3",
      "metadata": {
        "id": "7e7169c3"
      },
      "source": [
        "(i) *to get the index of the maximum value in the array*"
      ]
    },
    {
      "cell_type": "code",
      "execution_count": null,
      "id": "72e946b9",
      "metadata": {
        "id": "72e946b9",
        "outputId": "59378f2f-a8e7-4142-a3df-4ed50ceeaebf"
      },
      "outputs": [
        {
          "data": {
            "text/plain": [
              "np.int64(4)"
            ]
          },
          "execution_count": 72,
          "metadata": {},
          "output_type": "execute_result"
        }
      ],
      "source": [
        "one.argmax()  #"
      ]
    },
    {
      "cell_type": "markdown",
      "id": "775d2020",
      "metadata": {
        "id": "775d2020"
      },
      "source": [
        "*(ii) to get the index of the minimum value in the array*"
      ]
    },
    {
      "cell_type": "code",
      "execution_count": null,
      "id": "6c57089b",
      "metadata": {
        "id": "6c57089b",
        "outputId": "e052f5a5-d9c1-4e9c-c7d1-98c87d369838"
      },
      "outputs": [
        {
          "data": {
            "text/plain": [
              "np.int64(1)"
            ]
          },
          "execution_count": 73,
          "metadata": {},
          "output_type": "execute_result"
        }
      ],
      "source": [
        "one.argmin()"
      ]
    },
    {
      "cell_type": "markdown",
      "id": "90ecf259",
      "metadata": {
        "id": "90ecf259"
      },
      "source": [
        "2.16) *to sort the array*"
      ]
    },
    {
      "cell_type": "code",
      "execution_count": null,
      "id": "440ca9a5",
      "metadata": {
        "id": "440ca9a5",
        "outputId": "9ff84cf8-da7f-4072-8919-6c6852d589cc"
      },
      "outputs": [
        {
          "name": "stdout",
          "output_type": "stream",
          "text": [
            "[    3    12    32   234 12345]\n"
          ]
        }
      ],
      "source": [
        "one.sort()  # to sort the array\n",
        "print(one)  # display the sorted array"
      ]
    },
    {
      "cell_type": "markdown",
      "id": "6aab8013",
      "metadata": {
        "id": "6aab8013"
      },
      "source": [
        "# 3)  NUMPY AXIS"
      ]
    },
    {
      "cell_type": "markdown",
      "id": "632d5a36",
      "metadata": {
        "id": "632d5a36"
      },
      "source": [
        "![image.png](attachment:image.png)"
      ]
    },
    {
      "cell_type": "markdown",
      "id": "f5a802eb",
      "metadata": {
        "id": "f5a802eb"
      },
      "source": [
        "![image.png](attachment:image.png)"
      ]
    },
    {
      "cell_type": "markdown",
      "id": "8a2f3235",
      "metadata": {
        "id": "8a2f3235"
      },
      "source": [
        "![image.png](attachment:image.png)"
      ]
    },
    {
      "cell_type": "markdown",
      "id": "c1dd87ce",
      "metadata": {
        "id": "c1dd87ce"
      },
      "source": [
        "--> example of 3d array:\n",
        "\n",
        "![image.png](attachment:image.png)"
      ]
    },
    {
      "cell_type": "code",
      "execution_count": null,
      "id": "8e6b0f72",
      "metadata": {
        "id": "8e6b0f72",
        "outputId": "105fc3da-b16f-4170-96b2-1ac411ca9ad4"
      },
      "outputs": [
        {
          "name": "stdout",
          "output_type": "stream",
          "text": [
            "[[[ 1  2  3  4]\n",
            "  [ 5  6  7  8]\n",
            "  [ 9 10 11 12]]\n",
            "\n",
            " [[13 14 15 16]\n",
            "  [17 18 19 20]\n",
            "  [21 22 23 24]]\n",
            "\n",
            " [[25 26 27 28]\n",
            "  [29 30 31 32]\n",
            "  [33 34 35 36]]]\n"
          ]
        }
      ],
      "source": [
        "ar = np.array([\n",
        "\t[[1,2,3,4],[5,6,7,8],[9,10,11,12]],\n",
        "    [[13,14,15,16],[17,18,19,20],[21,22,23,24]],\n",
        "    [[25,26,27,28],[29,30,31,32],[33,34,35,36]]\n",
        "])\n",
        "print(ar) # 3-D array"
      ]
    },
    {
      "cell_type": "code",
      "execution_count": null,
      "id": "71815b5a",
      "metadata": {
        "id": "71815b5a",
        "outputId": "e0548528-06b0-4cfc-fc77-7980f7e6d3f9"
      },
      "outputs": [
        {
          "name": "stdout",
          "output_type": "stream",
          "text": [
            "[[ 1  2  3  4]\n",
            " [ 5  6  7  8]\n",
            " [ 9 10 11 12]]\n"
          ]
        }
      ],
      "source": [
        "ar2 = np.array([[1,2,3,4],[5,6,7,8],[9,10,11,12]])\n",
        "print(ar2)  # 2-D array"
      ]
    },
    {
      "cell_type": "code",
      "execution_count": null,
      "id": "852f6c27",
      "metadata": {
        "id": "852f6c27",
        "outputId": "c74d7cca-8faa-4d23-fdcb-4bf2571d1c43"
      },
      "outputs": [
        {
          "data": {
            "text/plain": [
              "np.int64(0)"
            ]
          },
          "execution_count": 77,
          "metadata": {},
          "output_type": "execute_result"
        }
      ],
      "source": [
        "ar.argmin()  # to get the index of the minimum value in the array"
      ]
    },
    {
      "cell_type": "code",
      "execution_count": null,
      "id": "a797f5ba",
      "metadata": {
        "id": "a797f5ba",
        "outputId": "4872c08e-73cd-4648-8dbc-95223c7a36d6"
      },
      "outputs": [
        {
          "data": {
            "text/plain": [
              "np.int64(12)"
            ]
          },
          "execution_count": 78,
          "metadata": {},
          "output_type": "execute_result"
        }
      ],
      "source": [
        "ar2.max()  # to get the index of the maximum value in the array"
      ]
    },
    {
      "cell_type": "code",
      "execution_count": null,
      "id": "42f30c96",
      "metadata": {
        "id": "42f30c96",
        "outputId": "a7030b54-57d9-42ee-dd90-ee46ef864a74"
      },
      "outputs": [
        {
          "data": {
            "text/plain": [
              "array([ 9, 10, 11, 12])"
            ]
          },
          "execution_count": 79,
          "metadata": {},
          "output_type": "execute_result"
        }
      ],
      "source": [
        "ar2.max(axis=0)  # to get the maximum value in each column"
      ]
    },
    {
      "cell_type": "code",
      "execution_count": null,
      "id": "f1814825",
      "metadata": {
        "id": "f1814825",
        "outputId": "8b9a7290-8fe9-4e72-f320-c7c9b51912fd"
      },
      "outputs": [
        {
          "data": {
            "text/plain": [
              "array([ 4,  8, 12])"
            ]
          },
          "execution_count": 80,
          "metadata": {},
          "output_type": "execute_result"
        }
      ],
      "source": [
        "ar2.max(axis=1) # to get the maximum value in each row"
      ]
    },
    {
      "cell_type": "code",
      "execution_count": null,
      "id": "caa90113",
      "metadata": {
        "id": "caa90113",
        "outputId": "54a10824-1890-4b14-9f75-cd9b41dab3b2"
      },
      "outputs": [
        {
          "data": {
            "text/plain": [
              "array([1, 2, 3, 4])"
            ]
          },
          "execution_count": 81,
          "metadata": {},
          "output_type": "execute_result"
        }
      ],
      "source": [
        "ar2.min(axis=0)  # to get the minimum value in each column"
      ]
    },
    {
      "cell_type": "code",
      "execution_count": null,
      "id": "1138f574",
      "metadata": {
        "id": "1138f574",
        "outputId": "4b3df553-1671-48f0-a1d5-cd512a3ec165"
      },
      "outputs": [
        {
          "name": "stdout",
          "output_type": "stream",
          "text": [
            "[[ 9  8 10]\n",
            " [34 25  6]\n",
            " [ 7 80 79]]\n"
          ]
        }
      ],
      "source": [
        "sat = np.array([[9,8,10],[34,25,6],[7,80,79]])\n",
        "print(sat)"
      ]
    },
    {
      "cell_type": "code",
      "execution_count": null,
      "id": "c14259e5",
      "metadata": {
        "id": "c14259e5",
        "outputId": "5f798050-cda4-4726-87c9-0ba3ae3a4a20"
      },
      "outputs": [
        {
          "data": {
            "text/plain": [
              "array([[1, 0, 2],\n",
              "       [2, 1, 0],\n",
              "       [0, 2, 1]])"
            ]
          },
          "execution_count": 83,
          "metadata": {},
          "output_type": "execute_result"
        }
      ],
      "source": [
        "sat.argsort(axis = 1)  # to get the indices that would sort the array"
      ]
    },
    {
      "cell_type": "code",
      "execution_count": null,
      "id": "38c10c20",
      "metadata": {
        "id": "38c10c20",
        "outputId": "db42b2f0-9031-4cf9-dcd5-7f62875514e9"
      },
      "outputs": [
        {
          "name": "stdout",
          "output_type": "stream",
          "text": [
            "[[ 1  2  3  4]\n",
            " [ 5  6  7  8]\n",
            " [ 9 10 11 12]]\n"
          ]
        }
      ],
      "source": [
        "ar3 = np.array([[1,2,3],[5,6,8],[9,10,12]])\n",
        "print(ar2)"
      ]
    },
    {
      "cell_type": "code",
      "execution_count": null,
      "id": "950e5ac8",
      "metadata": {
        "id": "950e5ac8",
        "outputId": "40d8aea1-d55c-451c-bbf9-6f0dda1b5f32"
      },
      "outputs": [
        {
          "data": {
            "text/plain": [
              "array([[10, 10, 13],\n",
              "       [39, 31, 14],\n",
              "       [16, 90, 91]])"
            ]
          },
          "execution_count": 85,
          "metadata": {},
          "output_type": "execute_result"
        }
      ],
      "source": [
        "ar3 + sat  # element-wise addition"
      ]
    },
    {
      "cell_type": "code",
      "execution_count": null,
      "id": "b9b4f416",
      "metadata": {
        "id": "b9b4f416",
        "outputId": "798b1c91-1029-41b6-d466-9aea65b4a8fa"
      },
      "outputs": [
        {
          "data": {
            "text/plain": [
              "array([[ -8,  -6,  -7],\n",
              "       [-29, -19,   2],\n",
              "       [  2, -70, -67]])"
            ]
          },
          "execution_count": 86,
          "metadata": {},
          "output_type": "execute_result"
        }
      ],
      "source": [
        "ar3 - sat  # element-wise subtraction"
      ]
    },
    {
      "cell_type": "code",
      "execution_count": null,
      "id": "af51784f",
      "metadata": {
        "id": "af51784f",
        "outputId": "5e3368de-37e0-4d51-8ecc-eeeb7a23371e"
      },
      "outputs": [
        {
          "data": {
            "text/plain": [
              "array([[  9,  16,  30],\n",
              "       [170, 150,  48],\n",
              "       [ 63, 800, 948]])"
            ]
          },
          "execution_count": 87,
          "metadata": {},
          "output_type": "execute_result"
        }
      ],
      "source": [
        "ar3 * sat  # element-wise multiplication"
      ]
    },
    {
      "cell_type": "code",
      "execution_count": null,
      "id": "01785bad",
      "metadata": {
        "id": "01785bad",
        "outputId": "2cd5d8b5-f6d7-411f-d9f8-dbc8ffe84072"
      },
      "outputs": [
        {
          "data": {
            "text/plain": [
              "array([[1.        , 1.41421356, 1.73205081],\n",
              "       [2.23606798, 2.44948974, 2.82842712],\n",
              "       [3.        , 3.16227766, 3.46410162]])"
            ]
          },
          "execution_count": 88,
          "metadata": {},
          "output_type": "execute_result"
        }
      ],
      "source": [
        "np.sqrt(ar3)  # to get the square root of each element in the array"
      ]
    },
    {
      "cell_type": "code",
      "execution_count": null,
      "id": "0f76dee3",
      "metadata": {
        "id": "0f76dee3",
        "outputId": "5deafc98-f93d-455b-8449-f718c54ed597"
      },
      "outputs": [
        {
          "data": {
            "text/plain": [
              "np.int64(56)"
            ]
          },
          "execution_count": 44,
          "metadata": {},
          "output_type": "execute_result"
        }
      ],
      "source": [
        "ar3.sum()  # to get the sum of all elements in the array"
      ]
    },
    {
      "cell_type": "code",
      "execution_count": null,
      "id": "d67cb346",
      "metadata": {
        "id": "d67cb346",
        "outputId": "0b395e11-e286-4f89-b28c-f12862dcc65f"
      },
      "outputs": [
        {
          "data": {
            "text/plain": [
              "(array([1, 1, 2, 2, 2]), array([1, 2, 0, 1, 2]))"
            ]
          },
          "execution_count": 91,
          "metadata": {},
          "output_type": "execute_result"
        }
      ],
      "source": [
        "np.where(ar3 > 5)  # to get the indices of elements that satisfy the condition"
      ]
    },
    {
      "cell_type": "code",
      "execution_count": null,
      "id": "2b5f6439",
      "metadata": {
        "id": "2b5f6439",
        "outputId": "5cd26028-effc-46fd-9f19-c815d05d3908"
      },
      "outputs": [
        {
          "data": {
            "text/plain": [
              "np.int64(9)"
            ]
          },
          "execution_count": 92,
          "metadata": {},
          "output_type": "execute_result"
        }
      ],
      "source": [
        "np.count_nonzero(ar3)  # to count the number of non-zero elements in the array"
      ]
    },
    {
      "cell_type": "code",
      "execution_count": null,
      "id": "9adc7340",
      "metadata": {
        "id": "9adc7340",
        "outputId": "48e89424-3b49-47c6-8cda-8cdc616eb34a"
      },
      "outputs": [
        {
          "data": {
            "text/plain": [
              "(array([0, 0, 0, 1, 1, 1, 2, 2, 2]), array([0, 1, 2, 0, 1, 2, 0, 1, 2]))"
            ]
          },
          "execution_count": 94,
          "metadata": {},
          "output_type": "execute_result"
        }
      ],
      "source": [
        "np.nonzero(ar3) # returns the indices of non-zero elements in the input array"
      ]
    }
  ],
  "metadata": {
    "kernelspec": {
      "display_name": ".venv",
      "language": "python",
      "name": "python3"
    },
    "language_info": {
      "codemirror_mode": {
        "name": "ipython",
        "version": 3
      },
      "file_extension": ".py",
      "mimetype": "text/x-python",
      "name": "python",
      "nbconvert_exporter": "python",
      "pygments_lexer": "ipython3",
      "version": "3.13.5"
    },
    "colab": {
      "provenance": [],
      "include_colab_link": true
    }
  },
  "nbformat": 4,
  "nbformat_minor": 5
}